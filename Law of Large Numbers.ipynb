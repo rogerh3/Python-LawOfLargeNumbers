{
 "cells": [
  {
   "cell_type": "code",
   "execution_count": 2,
   "id": "2c05ebc6",
   "metadata": {},
   "outputs": [],
   "source": [
    "#Udemy - Law of Large Numbers\n",
    "#Roger Hayden III\n",
    "#2/8/22"
   ]
  },
  {
   "cell_type": "code",
   "execution_count": 3,
   "id": "073cc34f",
   "metadata": {},
   "outputs": [
    {
     "data": {
      "text/plain": [
       "0.684"
      ]
     },
     "execution_count": 3,
     "metadata": {},
     "output_type": "execute_result"
    }
   ],
   "source": [
    "import numpy as np\n",
    "from numpy.random import randn\n",
    "\n",
    "counter = 0\n",
    "for i in randn(1000):\n",
    "    if i > -1 and i < 1:\n",
    "        counter = counter + 1\n",
    "counter/1000"
   ]
  },
  {
   "cell_type": "code",
   "execution_count": null,
   "id": "b779f7e7",
   "metadata": {},
   "outputs": [],
   "source": []
  }
 ],
 "metadata": {
  "kernelspec": {
   "display_name": "Python 3 (ipykernel)",
   "language": "python",
   "name": "python3"
  },
  "language_info": {
   "codemirror_mode": {
    "name": "ipython",
    "version": 3
   },
   "file_extension": ".py",
   "mimetype": "text/x-python",
   "name": "python",
   "nbconvert_exporter": "python",
   "pygments_lexer": "ipython3",
   "version": "3.9.7"
  }
 },
 "nbformat": 4,
 "nbformat_minor": 5
}
